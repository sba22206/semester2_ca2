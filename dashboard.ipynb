{
 "cells": [
  {
   "cell_type": "code",
   "execution_count": 60,
   "metadata": {},
   "outputs": [],
   "source": [
    "import matplotlib.pyplot as plt\n",
    "import numpy as np\n",
    "import pandas as pd\n",
    "import plotly.express as px\n",
    "import plotly.graph_objects as go\n",
    "import sklearn.metrics as metrics\n",
    "import sklearn.preprocessing as preprocessing\n",
    "import statsmodels.api as sm\n",
    "from dash import html\n",
    "import dash_core_components as dcc\n",
    "from dash.dependencies import Input, Output\n",
    "import dash_html_components as html\n",
    "from jupyter_dash import JupyterDash\n",
    "from tensorflow.keras.layers import Dense, LSTM\n",
    "from tensorflow.keras.models import Sequential"
   ]
  },
  {
   "cell_type": "code",
   "execution_count": 14,
   "metadata": {},
   "outputs": [],
   "source": [
    "data = pd.read_csv('weekly_sentiment_ukraine.csv', index_col=0)"
   ]
  },
  {
   "cell_type": "code",
   "execution_count": 15,
   "metadata": {},
   "outputs": [
    {
     "data": {
      "text/html": [
       "<div>\n",
       "<style scoped>\n",
       "    .dataframe tbody tr th:only-of-type {\n",
       "        vertical-align: middle;\n",
       "    }\n",
       "\n",
       "    .dataframe tbody tr th {\n",
       "        vertical-align: top;\n",
       "    }\n",
       "\n",
       "    .dataframe thead th {\n",
       "        text-align: right;\n",
       "    }\n",
       "</style>\n",
       "<table border=\"1\" class=\"dataframe\">\n",
       "  <thead>\n",
       "    <tr style=\"text-align: right;\">\n",
       "      <th></th>\n",
       "      <th>id</th>\n",
       "      <th>year</th>\n",
       "      <th>week</th>\n",
       "      <th>avg_sentiment</th>\n",
       "    </tr>\n",
       "  </thead>\n",
       "  <tbody>\n",
       "    <tr>\n",
       "      <th>0</th>\n",
       "      <td>0</td>\n",
       "      <td>2022</td>\n",
       "      <td>37</td>\n",
       "      <td>0.057567</td>\n",
       "    </tr>\n",
       "    <tr>\n",
       "      <th>1</th>\n",
       "      <td>1</td>\n",
       "      <td>2022</td>\n",
       "      <td>36</td>\n",
       "      <td>0.073651</td>\n",
       "    </tr>\n",
       "    <tr>\n",
       "      <th>2</th>\n",
       "      <td>2</td>\n",
       "      <td>2022</td>\n",
       "      <td>44</td>\n",
       "      <td>0.062976</td>\n",
       "    </tr>\n",
       "    <tr>\n",
       "      <th>3</th>\n",
       "      <td>3</td>\n",
       "      <td>2022</td>\n",
       "      <td>35</td>\n",
       "      <td>0.072307</td>\n",
       "    </tr>\n",
       "    <tr>\n",
       "      <th>4</th>\n",
       "      <td>4</td>\n",
       "      <td>2022</td>\n",
       "      <td>39</td>\n",
       "      <td>0.055350</td>\n",
       "    </tr>\n",
       "  </tbody>\n",
       "</table>\n",
       "</div>"
      ],
      "text/plain": [
       "   id  year  week  avg_sentiment\n",
       "0   0  2022    37       0.057567\n",
       "1   1  2022    36       0.073651\n",
       "2   2  2022    44       0.062976\n",
       "3   3  2022    35       0.072307\n",
       "4   4  2022    39       0.055350"
      ]
     },
     "execution_count": 15,
     "metadata": {},
     "output_type": "execute_result"
    }
   ],
   "source": [
    "data.head()"
   ]
  },
  {
   "cell_type": "code",
   "execution_count": 16,
   "metadata": {},
   "outputs": [
    {
     "data": {
      "text/html": [
       "<div>\n",
       "<style scoped>\n",
       "    .dataframe tbody tr th:only-of-type {\n",
       "        vertical-align: middle;\n",
       "    }\n",
       "\n",
       "    .dataframe tbody tr th {\n",
       "        vertical-align: top;\n",
       "    }\n",
       "\n",
       "    .dataframe thead th {\n",
       "        text-align: right;\n",
       "    }\n",
       "</style>\n",
       "<table border=\"1\" class=\"dataframe\">\n",
       "  <thead>\n",
       "    <tr style=\"text-align: right;\">\n",
       "      <th></th>\n",
       "      <th>avg_sentiment</th>\n",
       "    </tr>\n",
       "    <tr>\n",
       "      <th>date</th>\n",
       "      <th></th>\n",
       "    </tr>\n",
       "  </thead>\n",
       "  <tbody>\n",
       "    <tr>\n",
       "      <th>2022-08-20</th>\n",
       "      <td>0.055036</td>\n",
       "    </tr>\n",
       "    <tr>\n",
       "      <th>2022-08-27</th>\n",
       "      <td>0.074953</td>\n",
       "    </tr>\n",
       "    <tr>\n",
       "      <th>2022-09-03</th>\n",
       "      <td>0.072307</td>\n",
       "    </tr>\n",
       "    <tr>\n",
       "      <th>2022-09-10</th>\n",
       "      <td>0.073651</td>\n",
       "    </tr>\n",
       "    <tr>\n",
       "      <th>2022-09-17</th>\n",
       "      <td>0.057567</td>\n",
       "    </tr>\n",
       "  </tbody>\n",
       "</table>\n",
       "</div>"
      ],
      "text/plain": [
       "            avg_sentiment\n",
       "date                     \n",
       "2022-08-20       0.055036\n",
       "2022-08-27       0.074953\n",
       "2022-09-03       0.072307\n",
       "2022-09-10       0.073651\n",
       "2022-09-17       0.057567"
      ]
     },
     "execution_count": 16,
     "metadata": {},
     "output_type": "execute_result"
    }
   ],
   "source": [
    "# Create a date column from the year and week columns\n",
    "data['date'] = pd.to_datetime(data['year'].astype(str), format='%Y') + \\\n",
    "                pd.to_timedelta(data['week'].mul(7).astype(str) + ' days')\n",
    "\n",
    "data.drop(['id', 'year', 'week'], axis=1, inplace=True)\n",
    "\n",
    "data.set_index('date', inplace=True)\n",
    "\n",
    "data.sort_index(inplace=True)\n",
    "\n",
    "data = data.iloc[:-1]\n",
    "\n",
    "data.head()"
   ]
  },
  {
   "cell_type": "code",
   "execution_count": 18,
   "metadata": {},
   "outputs": [],
   "source": [
    "data = data.resample('W').mean()"
   ]
  },
  {
   "cell_type": "code",
   "execution_count": 59,
   "metadata": {},
   "outputs": [
    {
     "data": {
      "text/plain": [
       "37"
      ]
     },
     "execution_count": 59,
     "metadata": {},
     "output_type": "execute_result"
    }
   ],
   "source": [
    "len(data)"
   ]
  },
  {
   "cell_type": "code",
   "execution_count": 20,
   "metadata": {},
   "outputs": [],
   "source": [
    "data = data.asfreq('W')"
   ]
  },
  {
   "cell_type": "code",
   "execution_count": 8,
   "metadata": {},
   "outputs": [
    {
     "name": "stdout",
     "output_type": "stream",
     "text": [
      "<class 'pandas.core.frame.DataFrame'>\n",
      "DatetimeIndex: 37 entries, 2022-08-21 to 2023-04-30\n",
      "Freq: W-SUN\n",
      "Data columns (total 1 columns):\n",
      " #   Column         Non-Null Count  Dtype  \n",
      "---  ------         --------------  -----  \n",
      " 0   avg_sentiment  17 non-null     float64\n",
      "dtypes: float64(1)\n",
      "memory usage: 592.0 bytes\n"
     ]
    }
   ],
   "source": [
    "# convert date to a date object\n",
    "data.info()"
   ]
  },
  {
   "cell_type": "code",
   "execution_count": 9,
   "metadata": {},
   "outputs": [
    {
     "data": {
      "text/plain": [
       "Index(['avg_sentiment'], dtype='object')"
      ]
     },
     "execution_count": 9,
     "metadata": {},
     "output_type": "execute_result"
    }
   ],
   "source": [
    "data.columns"
   ]
  },
  {
   "cell_type": "code",
   "execution_count": 89,
   "metadata": {},
   "outputs": [
    {
     "data": {
      "text/html": [
       "\n",
       "        <iframe\n",
       "            width=\"100%\"\n",
       "            height=\"650\"\n",
       "            src=\"http://127.0.0.1:8050/\"\n",
       "            frameborder=\"0\"\n",
       "            allowfullscreen\n",
       "            \n",
       "        ></iframe>\n",
       "        "
      ],
      "text/plain": [
       "<IPython.lib.display.IFrame at 0x1f938e29ca0>"
      ]
     },
     "metadata": {},
     "output_type": "display_data"
    }
   ],
   "source": [
    "app = JupyterDash(__name__)\n",
    "\n",
    "app.layout = html.Div([\n",
    "    html.H1('Forecasting Sentiment', style = {'color': 'white'}),\n",
    "    dcc.Tabs([\n",
    "        dcc.Tab([\n",
    "            dcc.Graph(id='time-series-plot'),\n",
    "            dcc.Slider(\n",
    "                id='date-slider',\n",
    "                min=0,\n",
    "                max=len(data.index.unique()) - 1,\n",
    "                value=len(data.index.unique()) - 1,\n",
    "                marks={i: {'label': data.index.unique()[i].strftime('%Y-%m-%d'), 'style': {'writing-mode': 'vertical-lr', 'text-orientation': 'mixed', 'white-space': 'nowrap'}} for i in range(len(data.index.unique()))},\n",
    "                step=None\n",
    "            ),\n",
    "        ], label='Time Series'),\n",
    "        dcc.Tab([\n",
    "            html.Div([\n",
    "                html.H3('ARIMA Model', style = {'color': 'white'}),\n",
    "                html.Label('Training data %:', style = {'color': 'white'}),\n",
    "                dcc.Input(id = 'train-percentage', value = 80, type = 'number'),\n",
    "                html.Label('Order (p,d,q):', style = {'color': 'white'}),\n",
    "                dcc.Input(id = 'arima-p', value = 1, type = 'number'),\n",
    "                dcc.Input(id = 'arima-d', value = 1, type = 'number'),\n",
    "                dcc.Input(id = 'arima-q', value = 1, type = 'number'),\n",
    "                html.Button('Train Model', id='train-button', n_clicks=0),\n",
    "                dcc.Graph(id='arima-plot')\n",
    "            ])\n",
    "        ], label = 'ARIMA Model'),\n",
    "\n",
    "        dcc.Tab([\n",
    "            html.Div([\n",
    "                html.H3(\"LSTM Model\", style={'color': 'white'}),\n",
    "                html.Label(\"Training data percentage (0-100):\", style={'color': 'white'}),\n",
    "                dcc.Input(id='train-percentage-lstm', type='number', value=70, min=0, max=100, step=1),\n",
    "                html.Label(\"Number of time steps:\", style={'color': 'white'}),\n",
    "                dcc.Input(id='time-steps', type='number', value=5, min=1, step=1),\n",
    "                html.Label(\"Number of LSTM units:\", style={'color': 'white'}),\n",
    "                dcc.Input(id='lstm-units', type='number', value=5, min=1, step=1),\n",
    "                html.Label(\"Number of epochs:\", style={'color': 'white'}),\n",
    "                dcc.Input(id='epochs', type='number', value=10, min=1, step=1),\n",
    "                html.Button(\"Train Model\", id='train-button-lstm', n_clicks=0),\n",
    "                dcc.Graph(id='lstm-plot')\n",
    "            ])\n",
    "        ], label='LSTM Model')\n",
    "\n",
    "    ]), \n",
    "])\n",
    "\n",
    "@app.callback(\n",
    "    Output('time-series-plot', 'figure'),\n",
    "    Input('date-slider', 'value'))\n",
    "def update_timeseries(selected_date_index):\n",
    "    selected_date = data.index.unique()[selected_date_index]\n",
    "    filtered_df = data.loc[data.index <= selected_date]\n",
    "    fig = px.line(filtered_df, x=filtered_df.index, y='avg_sentiment')\n",
    "    return fig\n",
    "\n",
    "@app.callback(\n",
    "    Output('arima-plot', 'figure'),\n",
    "    [Input('train-button', 'n_clicks')],\n",
    "    [dash.dependencies.State('train-percentage', 'value'),\n",
    "     dash.dependencies.State('arima-p', 'value'),\n",
    "     dash.dependencies.State('arima-d', 'value'),\n",
    "     dash.dependencies.State('arima-q', 'value')]\n",
    ")\n",
    "def train_arima(n_clicks, train_percentage, p, d, q):\n",
    "    if n_clicks == 0:\n",
    "        return go.Figure()\n",
    "\n",
    "    train_size = int(len(data) * train_percentage / 100)\n",
    "    train_data = data.iloc[:train_size]\n",
    "    test_data = data.iloc[train_size:]\n",
    "\n",
    "    model = sm.tsa.arima.ARIMA(train_data['avg_sentiment'], order=(p, d, q))\n",
    "    model_fit = model.fit()\n",
    "\n",
    "    forecast = model_fit.predict(start=train_data.index[-1], end=test_data.index[-1], dynamic=True)\n",
    "\n",
    "    arima_mse = round(mean_squared_error(test_data.values.flatten(), forecast.loc[test_data.index].values), ndigits = 3)\n",
    "\n",
    "    fig = go.Figure()\n",
    "    fig.add_trace(go.Scatter(x=data.index, y=data['avg_sentiment'], mode='lines', name='Actual'))\n",
    "    fig.add_trace(go.Scatter(x=train_data.index, y=model_fit.fittedvalues, mode='lines', name='Fit (Training)'))\n",
    "    fig.add_trace(go.Scatter(x=test_data.index, y=forecast, mode='lines', name='Forecast (Testing)'))\n",
    "    fig.update_layout(title=f'Actual vs. Predicted (ARIMA Model). MSE (Test): {arima_mse}', xaxis_title='Date', yaxis_title='Sentiment',)\n",
    "\n",
    "    return fig\n",
    "\n",
    "\n",
    "@app.callback(\n",
    "    Output('lstm-plot', 'figure'),\n",
    "    [Input('train-button-lstm', 'n_clicks')],\n",
    "    [dash.dependencies.State('train-percentage-lstm', 'value'),\n",
    "     dash.dependencies.State('lstm-units', 'value'),\n",
    "     dash.dependencies.State('epochs', 'value')]\n",
    ")\n",
    "def train_lstm(n_clicks, train_percentage, lstm_units, lstm_epochs):\n",
    "\n",
    "    if n_clicks == 0:\n",
    "        return go.Figure()\n",
    "\n",
    "    train_size = int(len(data) * train_percentage / 100)\n",
    "    train_data = data.iloc[:train_size]\n",
    "\n",
    "    # Scale the data\n",
    "    scaler = MinMaxScaler(feature_range=(-1, 1))\n",
    "    scaled_data = scaler.fit_transform(train_data)\n",
    "\n",
    "    # Split the data into training and testing sets\n",
    "    X_train, y_train = [], []\n",
    "    for i in range(lstm_units, len(scaled_data)):\n",
    "        X_train.append(scaled_data[i-lstm_units:i, 0])\n",
    "        y_train.append(scaled_data[i, 0])\n",
    "    X_train, y_train = np.array(X_train), np.array(y_train)\n",
    "    X_train = np.reshape(X_train, (X_train.shape[0], X_train.shape[1], 1))\n",
    "\n",
    "    # Create the LSTM model\n",
    "    model = Sequential()\n",
    "    model.add(LSTM(units=lstm_units, return_sequences=True, input_shape=(X_train.shape[1], 1)))\n",
    "    model.add(LSTM(units=lstm_units))\n",
    "    model.add(Dense(units=1))\n",
    "    model.compile(optimizer='adam', loss='mean_squared_error')\n",
    "    model.fit(X_train, y_train, epochs=lstm_epochs, batch_size=32)\n",
    "\n",
    "    # Create predictions for training and testing sets\n",
    "    train_predictions = scaler.inverse_transform(model.predict(X_train))\n",
    "\n",
    "    test_data = data.iloc[train_size:]\n",
    "    scaled_test_data = scaler.transform(test_data)\n",
    "    X_test, y_test = [], []\n",
    "    for i in range(lstm_units, len(scaled_test_data)):\n",
    "        X_test.append(scaled_test_data[i-lstm_units:i, 0])\n",
    "        y_test.append(scaled_test_data[i, 0])\n",
    "    X_test, y_test = np.array(X_test), np.array(y_test)\n",
    "    X_test = np.reshape(X_test, (X_test.shape[0], X_test.shape[1], 1))\n",
    "\n",
    "    test_predictions = scaler.inverse_transform(model.predict(X_test))\n",
    "\n",
    "    lstm_mse = round(mean_squared_error(test_data['avg_sentiment'][lstm_units:], test_predictions), ndigits = 3)\n",
    "\n",
    "    # Plot the results\n",
    "    fig = go.Figure()\n",
    "    fig.add_trace(go.Scatter(x=train_data.index, y=train_data['avg_sentiment'], name='Actual (train)'))\n",
    "    fig.add_trace(go.Scatter(x=train_data.index[lstm_units:], y=train_predictions.flatten(), name='Predicted (train)'))\n",
    "    fig.add_trace(go.Scatter(x=test_data.index, y=test_data['avg_sentiment'], name='Actual (test)'))\n",
    "    fig.add_trace(go.Scatter(x=test_data.index[lstm_units:], y=test_predictions.flatten(), name='Predicted (test)'))\n",
    "    fig.update_layout(title=f'Actual vs. Predicted (LSTM Model). MSE (Test): {lstm_mse}', xaxis_title='Date', yaxis_title='Sentiment')\n",
    "    return fig\n",
    "\n",
    "\n",
    "\n",
    "\n",
    "app.run_server(mode='inline')\n",
    "\n"
   ]
  }
 ],
 "metadata": {
  "kernelspec": {
   "display_name": "Python 3",
   "language": "python",
   "name": "python3"
  },
  "language_info": {
   "codemirror_mode": {
    "name": "ipython",
    "version": 3
   },
   "file_extension": ".py",
   "mimetype": "text/x-python",
   "name": "python",
   "nbconvert_exporter": "python",
   "pygments_lexer": "ipython3",
   "version": "3.9.12"
  },
  "orig_nbformat": 4
 },
 "nbformat": 4,
 "nbformat_minor": 2
}
