{
 "cells": [
  {
   "cell_type": "code",
   "execution_count": null,
   "id": "2a9b064d",
   "metadata": {},
   "outputs": [],
   "source": []
  },
  {
   "cell_type": "code",
   "execution_count": 2,
   "id": "89919d31",
   "metadata": {},
   "outputs": [],
   "source": [
    "with open('/home/hduser/mongo_ycsb.txt', 'r') as file:\n",
    "    data = file.read()\n",
    "    "
   ]
  },
  {
   "cell_type": "code",
   "execution_count": 4,
   "id": "153585e2",
   "metadata": {},
   "outputs": [
    {
     "data": {
      "text/plain": [
       "'Starting test.\\n2023-05-22 22:22:42:491 0 sec: 0 operations; est completion in 0 second \\nmongo client connection created with mongodb://localhost:27017/ycsb?w=1\\nDBWrapper: report latency for each error is false and specific error codes to track for latency are: []\\n2023-05-22 22:22:46:051 3 sec: 10000 operations; 2787.84 current ops/sec; [CLEANUP: Count=1, Max=1877, Min=1877, Avg=1877, 90=1877, 99=1877, 99.9=1877, 99.99=1877] [INSERT: Count=10000, Max=199935, Min=29, Avg=300.45, 90=516, 99=1065, 99.9=12015, 99.99=27743] \\n[OVERALL], RunTime(ms), 3590\\n[OVERALL], Throughput(ops/sec), 2785.515320334262\\n[TOTAL_GCS_PS_Scavenge], Count, 3\\n[TOTAL_GC_TIME_PS_Scavenge], Time(ms), 75\\n[TOTAL_GC_TIME_%_PS_Scavenge], Time(%), 2.0891364902506964\\n[TOTAL_GCS_PS_MarkSweep], Count, 0\\n[TOTAL_GC_TIME_PS_MarkSweep], Time(ms), 0\\n[TOTAL_GC_TIME_%_PS_MarkSweep], Time(%), 0.0\\n[TOTAL_GCs], Count, 3\\n[TOTAL_GC_TIME], Time(ms), 75\\n[TOTAL_GC_TIME_%], Time(%), 2.0891364902506964\\n[CLEANUP], Operations, 1\\n[CLEANUP], AverageLatency(us), 1877.0\\n[CLEANUP], MinLatency(us), 1877\\n[CLEANUP], MaxLatency(us), 1877\\n[CLEANUP], 95thPercentileLatency(us), 1877\\n[CLEANUP], 99thPercentileLatency(us), 1877\\n[INSERT], Operations, 10000\\n[INSERT], AverageLatency(us), 300.4457\\n[INSERT], MinLatency(us), 29\\n[INSERT], MaxLatency(us), 199935\\n[INSERT], 95thPercentileLatency(us), 598\\n[INSERT], 99thPercentileLatency(us), 1065\\n[INSERT], Return=OK, 10000\\n'"
      ]
     },
     "execution_count": 4,
     "metadata": {},
     "output_type": "execute_result"
    }
   ],
   "source": [
    "data"
   ]
  }
 ],
 "metadata": {
  "kernelspec": {
   "display_name": "Python 3 (ipykernel)",
   "language": "python",
   "name": "python3"
  },
  "language_info": {
   "codemirror_mode": {
    "name": "ipython",
    "version": 3
   },
   "file_extension": ".py",
   "mimetype": "text/x-python",
   "name": "python",
   "nbconvert_exporter": "python",
   "pygments_lexer": "ipython3",
   "version": "3.10.6"
  }
 },
 "nbformat": 4,
 "nbformat_minor": 5
}
